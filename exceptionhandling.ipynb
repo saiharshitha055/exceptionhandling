{
 "cells": [
  {
   "cell_type": "code",
   "execution_count": 7,
   "id": "23e6de1d",
   "metadata": {},
   "outputs": [
    {
     "name": "stdout",
     "output_type": "stream",
     "text": [
      "Hey,you cant divide a number by zero\n",
      "bye\n"
     ]
    }
   ],
   "source": [
    "a=5\n",
    "b=0\n",
    "try:\n",
    "    print(a/b)\n",
    "except Exception as e:\n",
    "    print('Hey,you cant divide a number by zero')    \n",
    "print(\"bye\")    "
   ]
  },
  {
   "cell_type": "code",
   "execution_count": 6,
   "id": "3686e004",
   "metadata": {},
   "outputs": [
    {
     "name": "stdout",
     "output_type": "stream",
     "text": [
      "2.5\n",
      "Bye\n"
     ]
    }
   ],
   "source": [
    "#exception handling\n",
    "a=5\n",
    "b=2\n",
    "try:\n",
    "   print(a/b)\n",
    "except Exception:\n",
    "   print('Hey,you cant divide a number by zero')\n",
    "print(\"Bye\")     \n"
   ]
  },
  {
   "cell_type": "code",
   "execution_count": null,
   "id": "0385d494",
   "metadata": {},
   "outputs": [
    {
     "name": "stdout",
     "output_type": "stream",
     "text": [
      "Resource open\n",
      "2.5\n"
     ]
    }
   ],
   "source": [
    "#exception handling using try,except blocks\n",
    "a=5\n",
    "b=2\n",
    "try:\n",
    "    print(\"Resource open\")\n",
    "    print(a/b)\n",
    "except Exception:\n",
    "    print('Hey,you cant divide a number by zero')\n",
    "    print(\"Resource closed\")\n",
    "\n",
    "\n"
   ]
  },
  {
   "cell_type": "code",
   "execution_count": 12,
   "id": "d81529aa",
   "metadata": {},
   "outputs": [
    {
     "name": "stdout",
     "output_type": "stream",
     "text": [
      "Resource open\n",
      "Hey,you cant divide a number by zero\n",
      "Resource closed\n"
     ]
    }
   ],
   "source": [
    "a=5\n",
    "b=0\n",
    "try:\n",
    "    print(\"Resource open\")\n",
    "    print(a/b)\n",
    "except Exception:\n",
    "    print('Hey,you cant divide a number by zero')\n",
    "    print(\"Resource closed\")"
   ]
  },
  {
   "cell_type": "code",
   "execution_count": 15,
   "id": "dd0956bc",
   "metadata": {},
   "outputs": [
    {
     "name": "stdout",
     "output_type": "stream",
     "text": [
      "resource open\n",
      "2.5\n",
      "6\n",
      "resource closed\n"
     ]
    }
   ],
   "source": [
    "a=5\n",
    "b=2\n",
    "try:\n",
    "    print(\"resource open\")\n",
    "    print(a/b)\n",
    "    k=int(input(\"enter a number\"))    \n",
    "    print(k)\n",
    "\n",
    "except ZeroDivisionError as e:\n",
    "    print('hey,you cant divide a number by zero')\n",
    "\n",
    "except ValueError as e:\n",
    "    print(\"Invalid Input\")\n",
    "except Exception as e:\n",
    "    print(\"something went wrong\")\n",
    "finally:\n",
    "    print(\"resource closed\")    \n",
    " \n",
    "\n"
   ]
  }
 ],
 "metadata": {
  "kernelspec": {
   "display_name": "Python 3",
   "language": "python",
   "name": "python3"
  },
  "language_info": {
   "codemirror_mode": {
    "name": "ipython",
    "version": 3
   },
   "file_extension": ".py",
   "mimetype": "text/x-python",
   "name": "python",
   "nbconvert_exporter": "python",
   "pygments_lexer": "ipython3",
   "version": "3.8.4"
  }
 },
 "nbformat": 4,
 "nbformat_minor": 5
}
